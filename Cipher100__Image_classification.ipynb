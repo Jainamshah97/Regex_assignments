{
  "cells": [
    {
      "cell_type": "markdown",
      "metadata": {
        "id": "view-in-github",
        "colab_type": "text"
      },
      "source": [
        "<a href=\"https://colab.research.google.com/github/Jainamshah97/Regex_assignments/blob/main/Cipher100__Image_classification.ipynb\" target=\"_parent\"><img src=\"https://colab.research.google.com/assets/colab-badge.svg\" alt=\"Open In Colab\"/></a>"
      ]
    },
    {
      "cell_type": "markdown",
      "metadata": {
        "id": "eIre3hAK4PKe"
      },
      "source": [
        "Name-Jainam Shah\n",
        "ID-DIRSS2131"
      ]
    },
    {
      "cell_type": "markdown",
      "source": [],
      "metadata": {
        "id": "fDGP1hNs21XU"
      }
    },
    {
      "cell_type": "code",
      "execution_count": null,
      "metadata": {
        "id": "hI3UUMSwhGaz"
      },
      "outputs": [],
      "source": [
        "import tensorflow as tf"
      ]
    },
    {
      "cell_type": "code",
      "execution_count": null,
      "metadata": {
        "colab": {
          "base_uri": "https://localhost:8080/"
        },
        "id": "_QchPFKIhmTL",
        "outputId": "b719be09-c512-4d48-92de-2f22b1ca06c5"
      },
      "outputs": [
        {
          "name": "stdout",
          "output_type": "stream",
          "text": [
            "Downloading data from https://www.cs.toronto.edu/~kriz/cifar-100-python.tar.gz\n",
            "169009152/169001437 [==============================] - 3s 0us/step\n",
            "169017344/169001437 [==============================] - 3s 0us/step\n"
          ]
        }
      ],
      "source": [
        "import tensorflow as tf\n",
        "from tensorflow.keras import datasets,layers,models\n",
        "import matplotlib.pyplot as plt\n",
        "import numpy as np\n",
        "(X_train, y_train), (X_test,y_test) = datasets.cifar100.load_data()"
      ]
    },
    {
      "cell_type": "code",
      "execution_count": null,
      "metadata": {
        "colab": {
          "base_uri": "https://localhost:8080/"
        },
        "id": "EbhtgcFLh9Hd",
        "outputId": "0529a6eb-d391-4a89-9a81-770e98439739"
      },
      "outputs": [
        {
          "data": {
            "text/plain": [
              "(50000, 32, 32, 3)"
            ]
          },
          "execution_count": 3,
          "metadata": {},
          "output_type": "execute_result"
        }
      ],
      "source": [
        "X_train.shape"
      ]
    },
    {
      "cell_type": "code",
      "execution_count": null,
      "metadata": {
        "colab": {
          "base_uri": "https://localhost:8080/"
        },
        "id": "rZo2NSXKixVO",
        "outputId": "164e885d-49f1-4eda-b3d8-f96f906ec993"
      },
      "outputs": [
        {
          "data": {
            "text/plain": [
              "(10000, 32, 32, 3)"
            ]
          },
          "execution_count": 4,
          "metadata": {},
          "output_type": "execute_result"
        }
      ],
      "source": [
        "X_test.shape"
      ]
    },
    {
      "cell_type": "code",
      "execution_count": null,
      "metadata": {
        "colab": {
          "base_uri": "https://localhost:8080/"
        },
        "id": "XVEoq8JLixXs",
        "outputId": "cebc11b4-1b0e-4493-a9e5-6236ed0d3ccc"
      },
      "outputs": [
        {
          "data": {
            "text/plain": [
              "(10000, 1)"
            ]
          },
          "execution_count": 5,
          "metadata": {},
          "output_type": "execute_result"
        }
      ],
      "source": [
        "y_test.shape"
      ]
    },
    {
      "cell_type": "code",
      "execution_count": null,
      "metadata": {
        "id": "4hAR_mGljUjC"
      },
      "outputs": [],
      "source": [
        "y_test=y_test.reshape(-1,)"
      ]
    },
    {
      "cell_type": "code",
      "execution_count": null,
      "metadata": {
        "colab": {
          "base_uri": "https://localhost:8080/"
        },
        "id": "LQEITskIjbfS",
        "outputId": "00683d18-c8bd-4303-d83d-74c6bb5e1697"
      },
      "outputs": [
        {
          "data": {
            "text/plain": [
              "array([[19],\n",
              "       [29],\n",
              "       [ 0],\n",
              "       [11],\n",
              "       [ 1]])"
            ]
          },
          "execution_count": 7,
          "metadata": {},
          "output_type": "execute_result"
        }
      ],
      "source": [
        "y_train.shape \n",
        "y_train[:5]"
      ]
    },
    {
      "cell_type": "code",
      "execution_count": null,
      "metadata": {
        "colab": {
          "background_save": true,
          "base_uri": "https://localhost:8080/",
          "height": 301
        },
        "id": "zz2lW9FPjbky",
        "outputId": "a9f9f4b4-1cca-401b-be76-cf386c99523d"
      },
      "outputs": [
        {
          "data": {
            "text/plain": [
              "<Figure size 1080x1080 with 0 Axes>"
            ]
          },
          "execution_count": null,
          "metadata": {},
          "output_type": "execute_result"
        },
        {
          "data": {
            "image/png": "[encoded data removed]",
            "text/plain": [
              "<Figure size 432x288 with 1 Axes>"
            ]
          },
          "metadata": {},
          "output_type": "display_data"
        },
        {
          "data": {
            "text/plain": [
              "<Figure size 1080x1080 with 0 Axes>"
            ]
          },
          "metadata": {},
          "output_type": "display_data"
        }
      ],
      "source": [
        "plt.imshow(X_train[1])\n",
        "plt.figure(figsize = (15,1))"
      ]
    },
    {
      "cell_type": "code",
      "execution_count": null,
      "metadata": {
        "colab": {
          "background_save": true,
          "base_uri": "https://localhost:8080/",
          "height": 35
        },
        "id": "E4FfT4KBjbnR",
        "outputId": "15f4188a-52aa-428b-e480-8e89b96445a3"
      },
      "outputs": [
        {
          "data": {
            "application/vnd.google.colaboratory.intrinsic+json": {
              "type": "string"
            },
            "text/plain": [
              "'truck'"
            ]
          },
          "execution_count": null,
          "metadata": {},
          "output_type": "execute_result"
        }
      ],
      "source": [
        "classes= [\"airplane\",\"automobile\",\"bird\",\"cat\",\"deer\",\"dog\",\"frog\",\"horse\",\"ship\",\"truck\"]\n",
        "classes[9]"
      ]
    },
    {
      "cell_type": "code",
      "execution_count": null,
      "metadata": {
        "colab": {
          "background_save": true
        },
        "id": "PWNWdSWNpFJO"
      },
      "outputs": [],
      "source": [
        "#normalising the data\n",
        "X_train = X_train / 255.0\n",
        "X_test = X_test / 255.0"
      ]
    },
    {
      "cell_type": "code",
      "execution_count": null,
      "metadata": {
        "colab": {
          "background_save": true,
          "base_uri": "https://localhost:8080/"
        },
        "id": "rvtV5GChpFEm",
        "outputId": "fa901cb9-af12-4fb6-c283-d2a9b98192cb"
      },
      "outputs": [
        {
          "name": "stdout",
          "output_type": "stream",
          "text": [
            "Epoch 1/5\n",
            "1563/1563 [==============================] - 105s 67ms/step - loss: 4.6049 - accuracy: 0.0117\n",
            "Epoch 2/5\n",
            "1563/1563 [==============================] - 106s 68ms/step - loss: 4.6045 - accuracy: 0.0139\n",
            "Epoch 3/5\n",
            "1563/1563 [==============================] - 103s 66ms/step - loss: 4.6043 - accuracy: 0.0146\n",
            "Epoch 4/5\n",
            "1563/1563 [==============================] - 106s 68ms/step - loss: 4.6041 - accuracy: 0.0153\n",
            "Epoch 5/5\n",
            "1563/1563 [==============================] - 105s 67ms/step - loss: 4.6040 - accuracy: 0.0188\n"
          ]
        },
        {
          "data": {
            "text/plain": [
              "<keras.callbacks.History at 0x7ff6c4ee3b50>"
            ]
          },
          "execution_count": null,
          "metadata": {},
          "output_type": "execute_result"
        }
      ],
      "source": [
        "ann = models.Sequential([\n",
        "        layers.Flatten(input_shape=(32,32,3)),\n",
        "        layers.Dense(3000, activation='relu'),\n",
        "        layers.Dense(1000, activation='relu'),\n",
        "        layers.Dense(100, activation='softmax')    \n",
        "    ])\n",
        "\n",
        "ann.compile(optimizer='SGD',  \n",
        "              loss='sparse_categorical_crossentropy',\n",
        "              metrics=['accuracy'])\n",
        "\n",
        "ann.fit(X_train, y_train, epochs=5)"
      ]
    },
    {
      "cell_type": "code",
      "source": [
        "import pandas as pd \n",
        "import numpy as np "
      ],
      "metadata": {
        "id": "fX2KsymNZUgL"
      },
      "execution_count": null,
      "outputs": []
    },
    {
      "cell_type": "code",
      "execution_count": null,
      "metadata": {
        "colab": {
          "base_uri": "https://localhost:8080/"
        },
        "id": "s5Uq0DNewAxO",
        "outputId": "bebef10c-b3bb-4c07-f933-db371b28c6e9"
      },
      "outputs": [
        {
          "name": "stdout",
          "output_type": "stream",
          "text": [
            "Classification Report: \n",
            "               precision    recall  f1-score   support\n",
            "\n",
            "           0       0.35      0.41      0.38       100\n",
            "           1       0.17      0.39      0.23       100\n",
            "           2       0.12      0.21      0.15       100\n",
            "           3       0.13      0.06      0.08       100\n",
            "           4       0.12      0.05      0.07       100\n",
            "           5       0.15      0.19      0.16       100\n",
            "           6       0.20      0.11      0.14       100\n",
            "           7       0.20      0.12      0.15       100\n",
            "           8       0.67      0.02      0.04       100\n",
            "           9       0.36      0.24      0.29       100\n",
            "          10       0.13      0.06      0.08       100\n",
            "          11       0.10      0.12      0.11       100\n",
            "          12       0.37      0.07      0.12       100\n",
            "          13       0.24      0.12      0.16       100\n",
            "          14       0.20      0.12      0.15       100\n",
            "          15       0.13      0.14      0.14       100\n",
            "          16       0.38      0.17      0.23       100\n",
            "          17       0.19      0.05      0.08       100\n",
            "          18       0.16      0.41      0.23       100\n",
            "          19       0.37      0.11      0.17       100\n",
            "          20       0.14      0.60      0.23       100\n",
            "          21       0.29      0.37      0.32       100\n",
            "          22       0.21      0.17      0.19       100\n",
            "          23       0.30      0.41      0.35       100\n",
            "          24       0.26      0.50      0.34       100\n",
            "          25       0.05      0.11      0.07       100\n",
            "          26       0.00      0.00      0.00       100\n",
            "          27       0.07      0.06      0.07       100\n",
            "          28       0.30      0.33      0.32       100\n",
            "          29       0.20      0.03      0.05       100\n",
            "          30       0.50      0.10      0.17       100\n",
            "          31       0.31      0.04      0.07       100\n",
            "          32       0.48      0.10      0.17       100\n",
            "          33       0.26      0.08      0.12       100\n",
            "          34       0.12      0.20      0.15       100\n",
            "          35       0.10      0.04      0.06       100\n",
            "          36       0.10      0.35      0.15       100\n",
            "          37       0.10      0.31      0.15       100\n",
            "          38       0.17      0.05      0.08       100\n",
            "          39       0.08      0.27      0.13       100\n",
            "          40       0.13      0.24      0.17       100\n",
            "          41       0.54      0.41      0.47       100\n",
            "          42       0.00      0.00      0.00       100\n",
            "          43       0.25      0.07      0.11       100\n",
            "          44       0.00      0.00      0.00       100\n",
            "          45       0.12      0.04      0.06       100\n",
            "          46       0.12      0.26      0.17       100\n",
            "          47       0.17      0.44      0.24       100\n",
            "          48       0.37      0.33      0.35       100\n",
            "          49       0.27      0.21      0.23       100\n",
            "          50       0.10      0.13      0.11       100\n",
            "          51       0.13      0.24      0.17       100\n",
            "          52       0.55      0.35      0.43       100\n",
            "          53       0.32      0.45      0.37       100\n",
            "          54       0.61      0.33      0.43       100\n",
            "          55       1.00      0.01      0.02       100\n",
            "          56       0.31      0.26      0.28       100\n",
            "          57       0.23      0.21      0.22       100\n",
            "          58       0.32      0.21      0.25       100\n",
            "          59       0.16      0.11      0.13       100\n",
            "          60       0.47      0.42      0.44       100\n",
            "          61       0.47      0.18      0.26       100\n",
            "          62       0.23      0.41      0.30       100\n",
            "          63       0.35      0.17      0.23       100\n",
            "          64       0.08      0.06      0.07       100\n",
            "          65       0.13      0.05      0.07       100\n",
            "          66       0.00      0.00      0.00       100\n",
            "          67       0.26      0.21      0.23       100\n",
            "          68       0.28      0.61      0.39       100\n",
            "          69       0.20      0.33      0.25       100\n",
            "          70       0.28      0.40      0.33       100\n",
            "          71       0.27      0.38      0.32       100\n",
            "          72       0.08      0.02      0.03       100\n",
            "          73       0.24      0.35      0.29       100\n",
            "          74       0.08      0.04      0.05       100\n",
            "          75       0.20      0.34      0.25       100\n",
            "          76       0.29      0.27      0.28       100\n",
            "          77       0.13      0.02      0.03       100\n",
            "          78       0.07      0.03      0.04       100\n",
            "          79       0.03      0.01      0.01       100\n",
            "          80       0.05      0.04      0.04       100\n",
            "          81       0.05      0.03      0.04       100\n",
            "          82       0.44      0.59      0.50       100\n",
            "          83       0.16      0.04      0.06       100\n",
            "          84       0.07      0.04      0.05       100\n",
            "          85       0.31      0.34      0.32       100\n",
            "          86       0.19      0.45      0.26       100\n",
            "          87       0.18      0.07      0.10       100\n",
            "          88       0.03      0.01      0.02       100\n",
            "          89       0.39      0.14      0.21       100\n",
            "          90       0.50      0.04      0.07       100\n",
            "          91       0.20      0.35      0.26       100\n",
            "          92       0.23      0.03      0.05       100\n",
            "          93       0.33      0.02      0.04       100\n",
            "          94       0.25      0.34      0.29       100\n",
            "          95       0.15      0.60      0.24       100\n",
            "          96       0.10      0.25      0.14       100\n",
            "          97       0.08      0.03      0.04       100\n",
            "          98       0.07      0.05      0.06       100\n",
            "          99       0.11      0.01      0.02       100\n",
            "\n",
            "    accuracy                           0.19     10000\n",
            "   macro avg       0.22      0.19      0.17     10000\n",
            "weighted avg       0.22      0.19      0.17     10000\n",
            "\n"
          ]
        },
        {
          "name": "stderr",
          "output_type": "stream",
          "text": [
            "/usr/local/lib/python3.7/dist-packages/sklearn/metrics/_classification.py:1318: UndefinedMetricWarning: Precision and F-score are ill-defined and being set to 0.0 in labels with no predicted samples. Use `zero_division` parameter to control this behavior.\n",
            "  _warn_prf(average, modifier, msg_start, len(result))\n",
            "/usr/local/lib/python3.7/dist-packages/sklearn/metrics/_classification.py:1318: UndefinedMetricWarning: Precision and F-score are ill-defined and being set to 0.0 in labels with no predicted samples. Use `zero_division` parameter to control this behavior.\n",
            "  _warn_prf(average, modifier, msg_start, len(result))\n",
            "/usr/local/lib/python3.7/dist-packages/sklearn/metrics/_classification.py:1318: UndefinedMetricWarning: Precision and F-score are ill-defined and being set to 0.0 in labels with no predicted samples. Use `zero_division` parameter to control this behavior.\n",
            "  _warn_prf(average, modifier, msg_start, len(result))\n"
          ]
        }
      ],
      "source": [
        "from sklearn.metrics import confusion_matrix , classification_report\n",
        "import numpy as np\n",
        "y_pred = ann.predict(X_test)\n",
        "y_pred_classes = [np.argmax(element) for element in y_pred]\n",
        "\n",
        "print(\"Classification Report: \\n\", classification_report(y_test, y_pred_classes))"
      ]
    },
    {
      "cell_type": "code",
      "execution_count": null,
      "metadata": {
        "colab": {
          "background_save": true,
          "base_uri": "https://localhost:8080/"
        },
        "id": "HSnU-3FnwAuG",
        "outputId": "719aeb4a-d55a-418a-cd1b-3ff585a98bf8"
      },
      "outputs": [
        {
          "name": "stdout",
          "output_type": "stream",
          "text": [
            "Epoch 1/50\n",
            "1563/1563 [==============================] - 65s 41ms/step - loss: 3.8602 - accuracy: 0.1164\n",
            "Epoch 2/50\n",
            "1563/1563 [==============================] - 64s 41ms/step - loss: 3.2023 - accuracy: 0.2223\n",
            "Epoch 3/50\n",
            "1563/1563 [==============================] - 65s 42ms/step - loss: 2.9217 - accuracy: 0.2745\n",
            "Epoch 4/50\n",
            "1563/1563 [==============================] - 66s 42ms/step - loss: 2.7428 - accuracy: 0.3113\n",
            "Epoch 5/50\n",
            "1563/1563 [==============================] - 64s 41ms/step - loss: 2.6133 - accuracy: 0.3353\n",
            "Epoch 6/50\n",
            "1563/1563 [==============================] - 64s 41ms/step - loss: 2.5076 - accuracy: 0.3574\n",
            "Epoch 7/50\n",
            "1563/1563 [==============================] - 65s 41ms/step - loss: 2.4239 - accuracy: 0.3767\n",
            "Epoch 8/50\n",
            "1563/1563 [==============================] - 66s 42ms/step - loss: 2.3511 - accuracy: 0.3907\n",
            "Epoch 9/50\n",
            "1563/1563 [==============================] - 65s 41ms/step - loss: 2.2910 - accuracy: 0.4024\n",
            "Epoch 10/50\n",
            "1563/1563 [==============================] - 64s 41ms/step - loss: 2.2348 - accuracy: 0.4156\n",
            "Epoch 11/50\n",
            "1563/1563 [==============================] - 64s 41ms/step - loss: 2.1868 - accuracy: 0.4237\n",
            "Epoch 12/50\n",
            "1563/1563 [==============================] - 66s 42ms/step - loss: 2.1417 - accuracy: 0.4346\n",
            "Epoch 13/50\n",
            "1563/1563 [==============================] - 64s 41ms/step - loss: 2.0972 - accuracy: 0.4444\n",
            "Epoch 14/50\n",
            "1563/1563 [==============================] - 63s 40ms/step - loss: 2.0624 - accuracy: 0.4504\n",
            "Epoch 15/50\n",
            "1563/1563 [==============================] - 63s 40ms/step - loss: 2.0280 - accuracy: 0.4605\n",
            "Epoch 16/50\n",
            "1563/1563 [==============================] - 64s 41ms/step - loss: 1.9919 - accuracy: 0.4659\n",
            "Epoch 17/50\n",
            "1563/1563 [==============================] - 65s 42ms/step - loss: 1.9685 - accuracy: 0.4699\n",
            "Epoch 18/50\n",
            "1563/1563 [==============================] - 64s 41ms/step - loss: 1.9335 - accuracy: 0.4774\n",
            "Epoch 19/50\n",
            "1563/1563 [==============================] - 64s 41ms/step - loss: 1.9100 - accuracy: 0.4847\n",
            "Epoch 20/50\n",
            "1563/1563 [==============================] - 64s 41ms/step - loss: 1.8809 - accuracy: 0.4892\n",
            "Epoch 21/50\n",
            "1563/1563 [==============================] - 65s 42ms/step - loss: 1.8569 - accuracy: 0.4964\n",
            "Epoch 22/50\n",
            "1563/1563 [==============================] - 64s 41ms/step - loss: 1.8321 - accuracy: 0.5009\n",
            "Epoch 23/50\n",
            "1563/1563 [==============================] - 64s 41ms/step - loss: 1.7995 - accuracy: 0.5089\n",
            "Epoch 24/50\n",
            "1563/1563 [==============================] - 64s 41ms/step - loss: 1.7825 - accuracy: 0.5131\n",
            "Epoch 25/50\n",
            "1563/1563 [==============================] - 63s 40ms/step - loss: 1.7587 - accuracy: 0.5182\n",
            "Epoch 26/50\n",
            "1563/1563 [==============================] - 64s 41ms/step - loss: 1.7412 - accuracy: 0.5205\n",
            "Epoch 27/50\n",
            "1563/1563 [==============================] - 63s 40ms/step - loss: 1.7182 - accuracy: 0.5264\n",
            "Epoch 28/50\n",
            "1563/1563 [==============================] - 64s 41ms/step - loss: 1.6993 - accuracy: 0.5349\n",
            "Epoch 29/50\n",
            "1563/1563 [==============================] - 64s 41ms/step - loss: 1.6831 - accuracy: 0.5343\n",
            "Epoch 30/50\n",
            "1563/1563 [==============================] - 63s 40ms/step - loss: 1.6619 - accuracy: 0.5387\n",
            "Epoch 31/50\n",
            "1563/1563 [==============================] - 63s 41ms/step - loss: 1.6483 - accuracy: 0.5425\n",
            "Epoch 32/50\n",
            "1563/1563 [==============================] - 63s 41ms/step - loss: 1.6264 - accuracy: 0.5482\n",
            "Epoch 33/50\n",
            "1563/1563 [==============================] - 63s 40ms/step - loss: 1.6130 - accuracy: 0.5507\n",
            "Epoch 34/50\n",
            "1563/1563 [==============================] - 64s 41ms/step - loss: 1.6060 - accuracy: 0.5524\n",
            "Epoch 35/50\n",
            "1563/1563 [==============================] - 63s 40ms/step - loss: 1.5910 - accuracy: 0.5567\n",
            "Epoch 36/50\n",
            "1563/1563 [==============================] - 63s 40ms/step - loss: 1.5742 - accuracy: 0.5597\n",
            "Epoch 37/50\n",
            "1563/1563 [==============================] - 63s 40ms/step - loss: 1.5585 - accuracy: 0.5643\n",
            "Epoch 38/50\n",
            "1563/1563 [==============================] - 64s 41ms/step - loss: 1.5470 - accuracy: 0.5657\n",
            "Epoch 39/50\n",
            "1563/1563 [==============================] - 63s 40ms/step - loss: 1.5356 - accuracy: 0.5671\n",
            "Epoch 40/50\n",
            "1563/1563 [==============================] - 63s 41ms/step - loss: 1.5233 - accuracy: 0.5718\n",
            "Epoch 41/50\n",
            "1563/1563 [==============================] - 63s 40ms/step - loss: 1.5037 - accuracy: 0.5743\n",
            "Epoch 42/50\n",
            "1563/1563 [==============================] - 64s 41ms/step - loss: 1.4962 - accuracy: 0.5757\n",
            "Epoch 43/50\n",
            "1563/1563 [==============================] - 63s 40ms/step - loss: 1.4881 - accuracy: 0.5777\n",
            "Epoch 44/50\n",
            "1563/1563 [==============================] - 63s 40ms/step - loss: 1.4750 - accuracy: 0.5805\n",
            "Epoch 45/50\n",
            "1563/1563 [==============================] - 63s 40ms/step - loss: 1.4660 - accuracy: 0.5839\n",
            "Epoch 46/50\n",
            "1563/1563 [==============================] - 63s 40ms/step - loss: 1.4586 - accuracy: 0.5867\n",
            "Epoch 47/50\n",
            "1563/1563 [==============================] - 64s 41ms/step - loss: 1.4485 - accuracy: 0.5878\n",
            "Epoch 48/50\n",
            "1563/1563 [==============================] - 63s 40ms/step - loss: 1.4357 - accuracy: 0.5919\n",
            "Epoch 49/50\n",
            "1563/1563 [==============================] - 63s 40ms/step - loss: 1.4312 - accuracy: 0.5928\n",
            "Epoch 50/50\n",
            "1563/1563 [==============================] - 62s 40ms/step - loss: 1.4163 - accuracy: 0.5946\n"
          ]
        },
        {
          "data": {
            "text/plain": [
              "<keras.callbacks.History at 0x7f31d4906090>"
            ]
          },
          "execution_count": null,
          "metadata": {},
          "output_type": "execute_result"
        }
      ],
      "source": [
        "cnn = models.Sequential([\n",
        "    layers.Conv2D(filters=32, kernel_size=(3, 3), activation='relu', input_shape=(32, 32, 3)),\n",
        "    layers.MaxPooling2D((2, 2)),\n",
        "    \n",
        "    layers.Conv2D(filters=64, kernel_size=(3, 3), activation='relu'),\n",
        "    layers.MaxPooling2D((2, 2)),\n",
        "    \n",
        "    layers.Flatten(),\n",
        "    layers.Dense(64, activation='relu'),\n",
        "    layers.Dense(100, activation='softmax')\n",
        "])\n",
        "cnn.compile(optimizer='adam',\n",
        "              loss='sparse_categorical_crossentropy',\n",
        "              metrics=['accuracy'])\n",
        "cnn.fit(X_train, y_train, epochs=50)\n"
      ]
    },
    {
      "cell_type": "code",
      "execution_count": null,
      "metadata": {
        "colab": {
          "base_uri": "https://localhost:8080/"
        },
        "id": "HgQlpAtWwAr4",
        "outputId": "442b7922-c23a-4eb8-bdd1-695c1db8b7a7"
      },
      "outputs": [
        {
          "name": "stdout",
          "output_type": "stream",
          "text": [
            "313/313 [==============================] - 4s 13ms/step - loss: 2.9390 - accuracy: 0.3467\n"
          ]
        },
        {
          "data": {
            "text/plain": [
              "[2.9390158653259277, 0.3467000126838684]"
            ]
          },
          "execution_count": 15,
          "metadata": {},
          "output_type": "execute_result"
        }
      ],
      "source": [
        "cnn.evaluate(X_test,y_test)\n",
        "#here As we increase the epochs the accuracy  increases\n",
        "#Due to limitations in my Computer i cannot oncrease more epochs thm"
      ]
    },
    {
      "cell_type": "code",
      "execution_count": null,
      "metadata": {
        "colab": {
          "base_uri": "https://localhost:8080/"
        },
        "id": "VION4HQYwApo",
        "outputId": "9b59c2e1-a7f9-4278-c973-14bbbcd79e52"
      },
      "outputs": [
        {
          "data": {
            "text/plain": [
              "array([[2.2059117e-04, 2.2602089e-05, 1.0619822e-03, 9.8623914e-01,\n",
              "        1.0719392e-05, 7.0116771e-03, 1.5439876e-04, 2.8064378e-06,\n",
              "        5.2684685e-03, 7.5901039e-06],\n",
              "       [1.1754395e-03, 2.1720886e-01, 4.5134998e-06, 5.1667794e-06,\n",
              "        9.0396881e-09, 8.2951379e-10, 9.4123829e-09, 3.4353007e-10,\n",
              "        7.7961344e-01, 1.9925751e-03],\n",
              "       [7.4750148e-02, 1.9648211e-01, 1.5477010e-04, 7.0946926e-04,\n",
              "        7.7551020e-05, 5.0120820e-05, 2.8602410e-05, 9.1673159e-05,\n",
              "        6.9186330e-01, 3.5792246e-02],\n",
              "       [8.9914757e-01, 1.2797781e-04, 5.6795338e-03, 1.1149215e-03,\n",
              "        3.2096037e-03, 7.2691603e-07, 5.5781834e-06, 9.4817542e-06,\n",
              "        9.0674169e-02, 3.0452931e-05],\n",
              "       [1.9622684e-07, 8.7787001e-04, 5.4657668e-02, 2.2412917e-02,\n",
              "        1.6774693e-01, 1.0109317e-03, 7.5322020e-01, 2.5112556e-06,\n",
              "        7.0633752e-05, 2.1717929e-07]], dtype=float32)"
            ]
          },
          "execution_count": 15,
          "metadata": {},
          "output_type": "execute_result"
        }
      ],
      "source": [
        "y_pred = cnn.predict(X_test)\n",
        "y_pred[:5]"
      ]
    },
    {
      "cell_type": "code",
      "execution_count": null,
      "metadata": {
        "colab": {
          "base_uri": "https://localhost:8080/"
        },
        "id": "OebRRIx2yhuj",
        "outputId": "b46ac4e4-8fc2-4bd1-eeab-836665c53060"
      },
      "outputs": [
        {
          "data": {
            "text/plain": [
              "array([3, 8, 8, 0, 6], dtype=uint8)"
            ]
          },
          "execution_count": 16,
          "metadata": {},
          "output_type": "execute_result"
        }
      ],
      "source": [
        "y_classes = [np.argmax(element) for element in y_pred]\n",
        "y_classes[:5]\n",
        "y_test[:5]"
      ]
    },
    {
      "cell_type": "code",
      "execution_count": null,
      "metadata": {
        "id": "pcKcxQpfyh0E"
      },
      "outputs": [],
      "source": []
    }
  ],
  "metadata": {
    "colab": {
      "provenance": [],
      "authorship_tag": "ABX9TyMmxmeNwUb5GOUEoUe+qiiF",
      "include_colab_link": true
    },
    "kernelspec": {
      "display_name": "Python 3",
      "name": "python3"
    },
    "language_info": {
      "name": "python"
    }
  },
  "nbformat": 4,
  "nbformat_minor": 0
}